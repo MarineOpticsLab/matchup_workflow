{
 "cells": [
  {
   "cell_type": "code",
   "execution_count": 1,
   "metadata": {},
   "outputs": [],
   "source": [
    "import xarray as xr\n",
    "import numpy as np\n",
    "import pandas as pd"
   ]
  },
  {
   "cell_type": "code",
   "execution_count": null,
   "metadata": {},
   "outputs": [],
   "source": [
    "dataPath/ofile02-formatted-field-df.csv\n",
    "dataPath/$satDir\n",
    "\n",
    "field = pd.read_csv(dict_args['fieldDf'][0])\n",
    "field.drop(columns='Unnamed: 0', inplace=True)\n",
    "datarow = field.loc[field['ID']==dict_args['id'][0]].reset_index(drop=True)\n",
    "\n",
    "satdir = dict_args['satDir'][0]\n",
    "granid = datarow.granid[0]\n",
    "\n",
    "satfiledir = sat_filepath(granid, satdir)\n",
    "satData, satNav = import_satfile(satfiledir)"
   ]
  }
 ],
 "metadata": {
  "kernelspec": {
   "display_name": "Python 3",
   "language": "python",
   "name": "python3"
  },
  "language_info": {
   "codemirror_mode": {
    "name": "ipython",
    "version": 3
   },
   "file_extension": ".py",
   "mimetype": "text/x-python",
   "name": "python",
   "nbconvert_exporter": "python",
   "pygments_lexer": "ipython3",
   "version": "3.8.5"
  }
 },
 "nbformat": 4,
 "nbformat_minor": 4
}
